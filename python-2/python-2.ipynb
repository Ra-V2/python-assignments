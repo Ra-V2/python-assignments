{
 "cells": [
  {
   "cell_type": "markdown",
   "metadata": {},
   "source": [
    "### 2.10"
   ]
  },
  {
   "cell_type": "code",
   "execution_count": 2,
   "metadata": {},
   "outputs": [
    {
     "name": "stdout",
     "output_type": "stream",
     "text": [
      "Lorem ipsum dolor sit amet consectetur adipiscing elit\n",
      "         sed do eiusmod tempor incididunt ut labore et dolore magna aliqua\n",
      "         Ut enim ad minim veniam quis nostrud exercitation ullamco laboris nisi ut aliquip ex ea commodo consequat\n",
      "         Duis aute irure dolor in reprehenderit in voluptate velit esse cillum dolore eu fugiat nulla pariatur\n",
      "Words: ['Lorem', 'ipsum', 'dolor', 'sit', 'amet', 'consectetur', 'adipiscing', 'elit', 'sed', 'do', 'eiusmod', 'tempor', 'incididunt', 'ut', 'labore', 'et', 'dolore', 'magna', 'aliqua', 'Ut', 'enim', 'ad', 'minim', 'veniam', 'quis', 'nostrud', 'exercitation', 'ullamco', 'laboris', 'nisi', 'ut', 'aliquip', 'ex', 'ea', 'commodo', 'consequat', 'Duis', 'aute', 'irure', 'dolor', 'in', 'reprehenderit', 'in', 'voluptate', 'velit', 'esse', 'cillum', 'dolore', 'eu', 'fugiat', 'nulla', 'pariatur']\n",
      "Word count: 52\n"
     ]
    }
   ],
   "source": [
    "line = \"Lorem ipsum dolor sit amet consectetur adipiscing elit\\n \\\n",
    "        sed do eiusmod tempor incididunt ut labore et dolore magna aliqua\\n \\\n",
    "        Ut enim ad minim veniam quis nostrud exercitation ullamco laboris nisi ut aliquip ex ea commodo consequat\\n \\\n",
    "        Duis aute irure dolor in reprehenderit in voluptate velit esse cillum dolore eu fugiat nulla pariatur\"\n",
    "\n",
    "print(line)\n",
    "\n",
    "words = line.split()\n",
    "print(f\"Words: {words}\")\n",
    "word_count = len(line.split())\n",
    "print(f\"Word count: {word_count}\")\n"
   ]
  },
  {
   "cell_type": "markdown",
   "metadata": {},
   "source": [
    "### 2.11"
   ]
  },
  {
   "cell_type": "code",
   "execution_count": 3,
   "metadata": {},
   "outputs": [
    {
     "name": "stdout",
     "output_type": "stream",
     "text": [
      "p_y_t_h_o_n\n"
     ]
    }
   ],
   "source": [
    "word = input(\"Enter a word: \")\n",
    "\n",
    "word_with_underscores = '_'.join(word)\n",
    "print(word_with_underscores)\n"
   ]
  },
  {
   "cell_type": "markdown",
   "metadata": {},
   "source": [
    "### 2.12"
   ]
  },
  {
   "cell_type": "code",
   "execution_count": 9,
   "metadata": {},
   "outputs": [
    {
     "name": "stdout",
     "output_type": "stream",
     "text": [
      "Word from first letters: LidsacaesdetiuledmaUeamvqneulnuaeeccDaidirivvecdefnp\n",
      "Word from last letters: mmrttrgtdodrtteteaatmdmmsdnositpxaotseerntnetemeutar\n"
     ]
    }
   ],
   "source": [
    "first_letters_word = ''.join([word[0] for word in words])\n",
    "print(f\"Word from first letters: {first_letters_word}\")\n",
    "\n",
    "last_letters_word = ''.join([word[-1] for word in words])\n",
    "print(f\"Word from last letters: {last_letters_word}\")\n"
   ]
  },
  {
   "cell_type": "markdown",
   "metadata": {},
   "source": [
    "### 2.13"
   ]
  },
  {
   "cell_type": "code",
   "execution_count": 8,
   "metadata": {},
   "outputs": [
    {
     "name": "stdout",
     "output_type": "stream",
     "text": [
      "Sum of word lengths: 277\n"
     ]
    }
   ],
   "source": [
    "sum_of_word_lengths = sum([len(word) for word in words])\n",
    "print(f\"Sum of word lengths: {sum_of_word_lengths}\")\n"
   ]
  },
  {
   "cell_type": "markdown",
   "metadata": {},
   "source": [
    "### 2.14"
   ]
  },
  {
   "cell_type": "code",
   "execution_count": 10,
   "metadata": {},
   "outputs": [
    {
     "name": "stdout",
     "output_type": "stream",
     "text": [
      "Longest word: reprehenderit\n",
      "Lenght of longest word: 13\n"
     ]
    }
   ],
   "source": [
    "longest_word = max(words, key=len)\n",
    "print(f\"Longest word: {longest_word}\")\n",
    "\n",
    "lenght_of_longest_word = len(longest_word)\n",
    "print(f\"Lenght of longest word: {lenght_of_longest_word}\")\n"
   ]
  },
  {
   "cell_type": "markdown",
   "metadata": {},
   "source": [
    "### 2.15"
   ]
  },
  {
   "cell_type": "code",
   "execution_count": 2,
   "metadata": {},
   "outputs": [
    {
     "name": "stdout",
     "output_type": "stream",
     "text": [
      "12345678910\n"
     ]
    }
   ],
   "source": [
    "L = [1, 2, 3, 4, 5, 6, 7, 8, 9, 10]\n",
    "\n",
    "string = ''.join([str(i) for i in L])\n",
    "print(string)"
   ]
  },
  {
   "cell_type": "markdown",
   "metadata": {},
   "source": [
    "### 2.16"
   ]
  },
  {
   "cell_type": "code",
   "execution_count": 13,
   "metadata": {},
   "outputs": [
    {
     "name": "stdout",
     "output_type": "stream",
     "text": [
      "Lorem ipsum dolor sit amet consectetur adipiscing elit\n",
      "         sed do eiusmod tempor incididunt Guido van Rossum ut labore et dolore magna aliqua\n",
      "         Ut enim ad minim veniam quis nostrud exercitation ullamco laboris nisi ut aliquip ex ea commodo consequat\n",
      "         Duis aute irure dolor in reprehenderit in voluptate velit esse cillum dolore eu fugiat nulla pariatur\n"
     ]
    }
   ],
   "source": [
    "line = \"Lorem ipsum dolor sit amet consectetur adipiscing elit\\n \\\n",
    "        sed do eiusmod tempor incididunt GvR ut labore et dolore magna aliqua\\n \\\n",
    "        Ut enim ad minim veniam quis nostrud exercitation ullamco laboris nisi ut aliquip ex ea commodo consequat\\n \\\n",
    "        Duis aute irure dolor in reprehenderit in voluptate velit esse cillum dolore eu fugiat nulla pariatur\"\n",
    "\n",
    "replaced = line.replace('GvR', 'Guido van Rossum')\n",
    "print(replaced)"
   ]
  },
  {
   "cell_type": "markdown",
   "metadata": {},
   "source": [
    "### 2.17"
   ]
  },
  {
   "cell_type": "code",
   "execution_count": 17,
   "metadata": {},
   "outputs": [
    {
     "name": "stdout",
     "output_type": "stream",
     "text": [
      "Sorted words: ['Duis', 'Lorem', 'Ut', 'ad', 'adipiscing', 'aliqua', 'aliquip', 'amet', 'aute', 'cillum', 'commodo', 'consectetur', 'consequat', 'do', 'dolor', 'dolor', 'dolore', 'dolore', 'ea', 'eiusmod', 'elit', 'enim', 'esse', 'et', 'eu', 'ex', 'exercitation', 'fugiat', 'in', 'in', 'incididunt', 'ipsum', 'irure', 'labore', 'laboris', 'magna', 'minim', 'nisi', 'nostrud', 'nulla', 'pariatur', 'quis', 'reprehenderit', 'sed', 'sit', 'tempor', 'ullamco', 'ut', 'ut', 'velit', 'veniam', 'voluptate']\n",
      "Sorted words by length: ['do', 'ut', 'et', 'Ut', 'ad', 'ut', 'ex', 'ea', 'in', 'in', 'eu', 'sit', 'sed', 'amet', 'elit', 'enim', 'quis', 'nisi', 'Duis', 'aute', 'esse', 'Lorem', 'ipsum', 'dolor', 'magna', 'minim', 'irure', 'dolor', 'velit', 'nulla', 'tempor', 'labore', 'dolore', 'aliqua', 'veniam', 'cillum', 'dolore', 'fugiat', 'eiusmod', 'nostrud', 'ullamco', 'laboris', 'aliquip', 'commodo', 'pariatur', 'consequat', 'voluptate', 'adipiscing', 'incididunt', 'consectetur', 'exercitation', 'reprehenderit']\n"
     ]
    }
   ],
   "source": [
    "sorted_words = sorted(words)\n",
    "print(f\"Sorted words: {sorted_words}\")\n",
    "\n",
    "sorted_words_by_length = sorted(words, key=len)\n",
    "print(f\"Sorted words by length: {sorted_words_by_length}\")"
   ]
  },
  {
   "cell_type": "markdown",
   "metadata": {},
   "source": [
    "### 2.18"
   ]
  },
  {
   "cell_type": "code",
   "execution_count": 19,
   "metadata": {},
   "outputs": [
    {
     "name": "stdout",
     "output_type": "stream",
     "text": [
      "Count of zeros: 12\n"
     ]
    }
   ],
   "source": [
    "big_number = 1000000000000555\n",
    "big_number_str = str(big_number)\n",
    "\n",
    "count_of_zeros = big_number_str.count('0')\n",
    "print(f\"Count of zeros: {count_of_zeros}\")\n"
   ]
  },
  {
   "cell_type": "markdown",
   "metadata": {},
   "source": [
    "### 2.19"
   ]
  },
  {
   "cell_type": "code",
   "execution_count": 7,
   "metadata": {},
   "outputs": [
    {
     "name": "stdout",
     "output_type": "stream",
     "text": [
      "001 002 003 044 055 066 777 088 009\n"
     ]
    }
   ],
   "source": [
    "L = [1, 2, 3, 44, 55, 66, 777, 88, 9]\n",
    "\n",
    "string = ' '.join([str(i).zfill(3) for i in L])\n",
    "print(string)\n"
   ]
  }
 ],
 "metadata": {
  "kernelspec": {
   "display_name": "Python 3",
   "language": "python",
   "name": "python3"
  },
  "language_info": {
   "codemirror_mode": {
    "name": "ipython",
    "version": 3
   },
   "file_extension": ".py",
   "mimetype": "text/x-python",
   "name": "python",
   "nbconvert_exporter": "python",
   "pygments_lexer": "ipython3",
   "version": "3.12.1"
  }
 },
 "nbformat": 4,
 "nbformat_minor": 2
}
