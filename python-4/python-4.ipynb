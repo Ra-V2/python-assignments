{
 "cells": [
  {
   "cell_type": "markdown",
   "metadata": {},
   "source": [
    "### 4.1"
   ]
  },
  {
   "cell_type": "code",
   "execution_count": 5,
   "metadata": {},
   "outputs": [
    {
     "name": "stdout",
     "output_type": "stream",
     "text": [
      "qwerty\n"
     ]
    }
   ],
   "source": [
    "X = \"qwerty\"\n",
    "\n",
    "def func():\n",
    "    print(X)\n",
    "\n",
    "func()"
   ]
  },
  {
   "cell_type": "code",
   "execution_count": 6,
   "metadata": {},
   "outputs": [
    {
     "name": "stdout",
     "output_type": "stream",
     "text": [
      "qwerty\n"
     ]
    }
   ],
   "source": [
    "X = \"qwerty\"\n",
    "\n",
    "def func():\n",
    "    X = \"abc\"\n",
    "\n",
    "func()\n",
    "print(X)"
   ]
  },
  {
   "cell_type": "code",
   "execution_count": 4,
   "metadata": {},
   "outputs": [
    {
     "name": "stdout",
     "output_type": "stream",
     "text": [
      "abc\n"
     ]
    }
   ],
   "source": [
    "X = \"qwerty\"\n",
    "\n",
    "def func():\n",
    "    global X\n",
    "    X = \"abc\"\n",
    "\n",
    "func()\n",
    "print(X)"
   ]
  },
  {
   "cell_type": "markdown",
   "metadata": {},
   "source": [
    "### 4.2\n",
    "\n"
   ]
  },
  {
   "cell_type": "code",
   "execution_count": 11,
   "metadata": {},
   "outputs": [
    {
     "name": "stdout",
     "output_type": "stream",
     "text": [
      "|---|---|---|---|---|---|---|---|---|---|---|---|\n",
      "0   1   2   3   4   5   6   7   8   9  10  11  12\n",
      "\n",
      "\n",
      "+---+---+---+---+---+---+\n",
      "|   |   |   |   |   |   |\n",
      "+---+---+---+---+---+---+\n",
      "|   |   |   |   |   |   |\n",
      "+---+---+---+---+---+---+\n",
      "|   |   |   |   |   |   |\n",
      "+---+---+---+---+---+---+\n",
      "|   |   |   |   |   |   |\n",
      "+---+---+---+---+---+---+\n",
      "|   |   |   |   |   |   |\n",
      "+---+---+---+---+---+---+\n"
     ]
    }
   ],
   "source": [
    "def make_ruler(n):\n",
    "    line = '|'\n",
    "    numbers = '0'\n",
    "    for i in range(1, n+1):\n",
    "        line += \"---|\"\n",
    "        numbers += f\"{i:>4}\"\n",
    "    ruler = line + '\\n' + numbers\n",
    "    return ruler\n",
    "\n",
    "def make_grid(rows, cols):\n",
    "    grid = ''\n",
    "    for i in range(rows):\n",
    "        grid += '+---' * cols + '+\\n'\n",
    "        grid += '|   ' * cols + '|\\n'\n",
    "    grid += '+---' * cols + '+'\n",
    "    return grid\n",
    "\n",
    "print(make_ruler(12))\n",
    "print('\\n')\n",
    "print(make_grid(5,6))\n",
    "\n"
   ]
  },
  {
   "cell_type": "markdown",
   "metadata": {},
   "source": [
    "### 4.3"
   ]
  },
  {
   "cell_type": "code",
   "execution_count": 13,
   "metadata": {},
   "outputs": [
    {
     "name": "stdout",
     "output_type": "stream",
     "text": [
      "720\n"
     ]
    }
   ],
   "source": [
    "def factorial(n):\n",
    "    result = 1\n",
    "\n",
    "    while(n != 1):\n",
    "        result *= n\n",
    "        n -= 1\n",
    "\n",
    "    return result\n",
    "\n",
    "print(factorial(6))\n",
    "        \n"
   ]
  },
  {
   "cell_type": "markdown",
   "metadata": {},
   "source": [
    "### 4.4"
   ]
  },
  {
   "cell_type": "code",
   "execution_count": 14,
   "metadata": {},
   "outputs": [
    {
     "name": "stdout",
     "output_type": "stream",
     "text": [
      "8\n"
     ]
    }
   ],
   "source": [
    "def fibonacci(n):\n",
    "    a, b = 0, 1\n",
    "\n",
    "    for i in range(n):\n",
    "        a, b = b, a + b\n",
    "    \n",
    "    return a\n",
    "\n",
    "print(fibonacci(6))\n"
   ]
  },
  {
   "cell_type": "markdown",
   "metadata": {},
   "source": [
    "### 4.5"
   ]
  },
  {
   "cell_type": "code",
   "execution_count": 20,
   "metadata": {},
   "outputs": [
    {
     "name": "stdout",
     "output_type": "stream",
     "text": [
      "[1, 2, 6, 5, 4, 3, 7, 8, 9]\n",
      "[1, 2, 6, 5, 4, 3, 7, 8, 9]\n"
     ]
    }
   ],
   "source": [
    "def odwracanie(L, left, right):\n",
    "    while left < right:\n",
    "        L[left], L[right] = L[right], L[left]\n",
    "        left += 1\n",
    "        right -= 1\n",
    "\n",
    "def odwracanie_rek(L, left, right):\n",
    "    if left < right:\n",
    "        L[left], L[right] = L[right], L[left]\n",
    "        odwracanie(L, left + 1, right - 1)\n",
    "\n",
    "L1 = [1, 2, 3, 4, 5, 6, 7, 8, 9]\n",
    "L2 = [1, 2, 3, 4, 5, 6, 7, 8, 9]\n",
    "\n",
    "odwracanie(L1, 2, 5)\n",
    "odwracanie_rek(L2, 2, 5)\n",
    "print(L1)\n",
    "print(L2)\n"
   ]
  },
  {
   "cell_type": "markdown",
   "metadata": {},
   "source": [
    "### 4.6"
   ]
  },
  {
   "cell_type": "code",
   "execution_count": 25,
   "metadata": {},
   "outputs": [
    {
     "name": "stdout",
     "output_type": "stream",
     "text": [
      "45\n"
     ]
    }
   ],
   "source": [
    "def sum_seq(sequence):\n",
    "    total = 0\n",
    "    for item in sequence:\n",
    "        if isinstance(item, (list, tuple)):\n",
    "            total += sum_seq(item)\n",
    "        else:\n",
    "            total += item\n",
    "    return total\n",
    "\n",
    "nested_list = [1, [2, 3], [4, [5, 6]], 7, [8, 9]]\n",
    "print(sum_seq(nested_list)) "
   ]
  },
  {
   "cell_type": "markdown",
   "metadata": {},
   "source": [
    "### 4.7"
   ]
  },
  {
   "cell_type": "code",
   "execution_count": 26,
   "metadata": {},
   "outputs": [
    {
     "name": "stdout",
     "output_type": "stream",
     "text": [
      "[1, 2, 3, 4, 5, 6, 7, 8, 9]\n"
     ]
    }
   ],
   "source": [
    "def flatten(sequence):\n",
    "    result = []\n",
    "    for item in sequence:\n",
    "        if isinstance(item, (list, tuple)):\n",
    "            result.extend(flatten(item))\n",
    "        else:\n",
    "            result.append(item)\n",
    "\n",
    "    return result\n",
    "\n",
    "seq = [1,(2,3),[],[4,(5,6,7)],8,[9]]\n",
    "print(flatten(seq))   # [1,2,3,4,5,6,7,8,9]"
   ]
  }
 ],
 "metadata": {
  "kernelspec": {
   "display_name": "Python 3",
   "language": "python",
   "name": "python3"
  },
  "language_info": {
   "codemirror_mode": {
    "name": "ipython",
    "version": 3
   },
   "file_extension": ".py",
   "mimetype": "text/x-python",
   "name": "python",
   "nbconvert_exporter": "python",
   "pygments_lexer": "ipython3",
   "version": "3.10.12"
  }
 },
 "nbformat": 4,
 "nbformat_minor": 2
}
